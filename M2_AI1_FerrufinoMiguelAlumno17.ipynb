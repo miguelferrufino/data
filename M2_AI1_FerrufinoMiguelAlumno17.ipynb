{
  "nbformat": 4,
  "nbformat_minor": 0,
  "metadata": {
    "colab": {
      "name": "M2_AI1_FerrufinoMiguelAlumno17.ipynb",
      "provenance": [],
      "authorship_tag": "ABX9TyMFlw5ADq03ZRW6lcRJZTk+",
      "include_colab_link": true
    },
    "kernelspec": {
      "name": "python3",
      "display_name": "Python 3"
    }
  },
  "cells": [
    {
      "cell_type": "markdown",
      "metadata": {
        "id": "view-in-github",
        "colab_type": "text"
      },
      "source": [
        "<a href=\"https://colab.research.google.com/github/miguelferrufino/data/blob/master/M2_AI1_FerrufinoMiguelAlumno17.ipynb\" target=\"_parent\"><img src=\"https://colab.research.google.com/assets/colab-badge.svg\" alt=\"Open In Colab\"/></a>"
      ]
    },
    {
      "cell_type": "markdown",
      "metadata": {
        "id": "lpLjp3KGektV"
      },
      "source": [
        "# M2_AI1_CONSUMO TELEFÓNICO\n",
        "By: Miguel Marcelo Ferrufino Lopez - Alumno 17\\\n",
        "Master en Big Data & Data Science - Modulo 2, bloque 1. "
      ]
    },
    {
      "cell_type": "code",
      "metadata": {
        "id": "XzclkGAsx6Rm"
      },
      "source": [
        "# Importacion de librerias\n",
        "import pandas as pd\n",
        "import numpy as np"
      ],
      "execution_count": null,
      "outputs": []
    },
    {
      "cell_type": "code",
      "metadata": {
        "colab": {
          "base_uri": "https://localhost:8080/",
          "height": 224
        },
        "id": "GmRZ5uGbyF-w",
        "outputId": "9c417cc7-1121-4cad-d139-98cdf8e89871"
      },
      "source": [
        "# Carga del fichero desde enlace raw github y creacion del DF\n",
        "url = 'https://raw.githubusercontent.com/miguelferrufino/data/master/consumo_telefonico.csv'\n",
        "\n",
        "#Creacion del DF\n",
        "df = pd.read_csv(url, sep=';')\n",
        "\n",
        "#Visualizacion de la cabecera del DF\n",
        "df.head()"
      ],
      "execution_count": null,
      "outputs": [
        {
          "output_type": "execute_result",
          "data": {
            "text/html": [
              "<div>\n",
              "<style scoped>\n",
              "    .dataframe tbody tr th:only-of-type {\n",
              "        vertical-align: middle;\n",
              "    }\n",
              "\n",
              "    .dataframe tbody tr th {\n",
              "        vertical-align: top;\n",
              "    }\n",
              "\n",
              "    .dataframe thead th {\n",
              "        text-align: right;\n",
              "    }\n",
              "</style>\n",
              "<table border=\"1\" class=\"dataframe\">\n",
              "  <thead>\n",
              "    <tr style=\"text-align: right;\">\n",
              "      <th></th>\n",
              "      <th>cod_periodo</th>\n",
              "      <th>cod_segmento</th>\n",
              "      <th>cod_tarifa</th>\n",
              "      <th>cod_cliente</th>\n",
              "      <th>cod_terminal</th>\n",
              "      <th>consumo</th>\n",
              "    </tr>\n",
              "  </thead>\n",
              "  <tbody>\n",
              "    <tr>\n",
              "      <th>0</th>\n",
              "      <td>01/01/2017</td>\n",
              "      <td>seg1</td>\n",
              "      <td>100</td>\n",
              "      <td>1850</td>\n",
              "      <td>1665</td>\n",
              "      <td>49,5</td>\n",
              "    </tr>\n",
              "    <tr>\n",
              "      <th>1</th>\n",
              "      <td>01/01/2017</td>\n",
              "      <td>seg1</td>\n",
              "      <td>100</td>\n",
              "      <td>3998</td>\n",
              "      <td>3598</td>\n",
              "      <td>13,25</td>\n",
              "    </tr>\n",
              "    <tr>\n",
              "      <th>2</th>\n",
              "      <td>01/01/2017</td>\n",
              "      <td>seg1</td>\n",
              "      <td>100</td>\n",
              "      <td>9216</td>\n",
              "      <td>8294</td>\n",
              "      <td>48,41</td>\n",
              "    </tr>\n",
              "    <tr>\n",
              "      <th>3</th>\n",
              "      <td>01/01/2017</td>\n",
              "      <td>seg1</td>\n",
              "      <td>100</td>\n",
              "      <td>5430</td>\n",
              "      <td>4887</td>\n",
              "      <td>27</td>\n",
              "    </tr>\n",
              "    <tr>\n",
              "      <th>4</th>\n",
              "      <td>01/01/2017</td>\n",
              "      <td>seg1</td>\n",
              "      <td>101</td>\n",
              "      <td>498</td>\n",
              "      <td>448</td>\n",
              "      <td>32,33</td>\n",
              "    </tr>\n",
              "  </tbody>\n",
              "</table>\n",
              "</div>"
            ],
            "text/plain": [
              "  cod_periodo cod_segmento  cod_tarifa  cod_cliente  cod_terminal consumo\n",
              "0  01/01/2017         seg1         100         1850          1665    49,5\n",
              "1  01/01/2017         seg1         100         3998          3598   13,25\n",
              "2  01/01/2017         seg1         100         9216          8294   48,41\n",
              "3  01/01/2017         seg1         100         5430          4887      27\n",
              "4  01/01/2017         seg1         101          498           448   32,33"
            ]
          },
          "metadata": {
            "tags": []
          },
          "execution_count": 5
        }
      ]
    },
    {
      "cell_type": "code",
      "metadata": {
        "colab": {
          "base_uri": "https://localhost:8080/"
        },
        "id": "7xFcZ5Qlyn4f",
        "outputId": "5ea77e68-0eef-4518-abc4-b68bb73070eb"
      },
      "source": [
        "# Resumen de informacion del fichero\n",
        "print(df.info())"
      ],
      "execution_count": null,
      "outputs": [
        {
          "output_type": "stream",
          "text": [
            "<class 'pandas.core.frame.DataFrame'>\n",
            "RangeIndex: 257 entries, 0 to 256\n",
            "Data columns (total 6 columns):\n",
            " #   Column        Non-Null Count  Dtype \n",
            "---  ------        --------------  ----- \n",
            " 0   cod_periodo   257 non-null    object\n",
            " 1   cod_segmento  257 non-null    object\n",
            " 2   cod_tarifa    257 non-null    int64 \n",
            " 3   cod_cliente   257 non-null    int64 \n",
            " 4   cod_terminal  257 non-null    int64 \n",
            " 5   consumo       257 non-null    object\n",
            "dtypes: int64(3), object(3)\n",
            "memory usage: 12.2+ KB\n",
            "None\n"
          ],
          "name": "stdout"
        }
      ]
    },
    {
      "cell_type": "markdown",
      "metadata": {
        "id": "fxuHIzcvOyg-"
      },
      "source": [
        "\n",
        "Analisis del tipo de variables segun el diccionario y el analisis individual de cada una:\n",
        "\n",
        "1.   cod_periodo: es el periodo en el que se realizó el informe. Dicha fecha contiene el año y el mes, en ese orden. La información siempre está al día 1 de cada mes. **Variable de tipo objeto almacenada de forma numerica de uso categorico**\n",
        "2.   cod_segmento: los clientes están clasificados por diferentes segmentos en función del tipo de cliente y consumo que tienen. Hay 3 tipos de segmentos: promotor o bueno, pasivo o regular y detractor o malo. **Variable de tipo objeto almacenada de forma numerica de uso cualitativa ordinal**\n",
        "3. cod_tarifa: la compañía tiene 5 tarifas distintas. Se clasifican con el código 100, 101, 102, 103 y 104. Se incluyen distintos servicios, desde la tarifa 100 como la más económica y con los servicios básicos hasta la tarifa 104 con los servicios más exclusivos que tiene la compañía. **Variable cualitativa ordinal**\n",
        "4. cod_cliente: el cliente tiene un código identificador único, el cual está asociado a la tarifa y al consumo facturado que realiza. **Variable numerica de uso cualitativa ordinal**\n",
        "5. cod_terminal: **Variable numerica discreta**\n",
        "6. consumo: es el consumo del cliente, cuya unidad monetaria son los euros. Es una información correspondiente al mes del periodo extraído, ya que a todos los clientes se les cobra de manera mensual. **Variable cuantitativa continua**"
      ]
    },
    {
      "cell_type": "markdown",
      "metadata": {
        "id": "Kzhh-lDZYC1p"
      },
      "source": [
        "ANALISIS DESDE EL PUNTO DE VISTA **ANÁLSIS DE DATOS**"
      ]
    },
    {
      "cell_type": "code",
      "metadata": {
        "colab": {
          "base_uri": "https://localhost:8080/"
        },
        "id": "5ikOWJ2p3rNR",
        "outputId": "6ff746aa-fa5f-4ffb-94e6-56d0b9d18362"
      },
      "source": [
        "# Analisis de la variable cod_periodo\n",
        "periodo = pd.unique(df['cod_periodo'])\n",
        "periodo.sort()\n",
        "print(periodo)"
      ],
      "execution_count": null,
      "outputs": [
        {
          "output_type": "stream",
          "text": [
            "['01/01/2017' '01/02/2017' '01/03/2017' '01/04/2017' '01/05/2017']\n"
          ],
          "name": "stdout"
        }
      ]
    },
    {
      "cell_type": "markdown",
      "metadata": {
        "id": "FNuzRIOPQN4Q"
      },
      "source": [
        "cod_periodo se identifica como **variable cualitativa**, pese a ser recogida de forma numerica, ya que permite clasificar la información sobre el año y el mes en que se realizo el informe. Tambien se puede identificar que es una **variable categorica ordinal** porque sigue un orden segun la el año y el mes mas antiguo al más actual"
      ]
    },
    {
      "cell_type": "code",
      "metadata": {
        "colab": {
          "base_uri": "https://localhost:8080/"
        },
        "id": "yAKPvt0mSqc_",
        "outputId": "8b57048d-710d-472e-8ee0-77364a7f0d84"
      },
      "source": [
        "# Analisis de la variable cod_segmento\n",
        "segmento = pd.unique(df['cod_segmento'])\n",
        "segmento.sort()\n",
        "print(segmento)"
      ],
      "execution_count": null,
      "outputs": [
        {
          "output_type": "stream",
          "text": [
            "['seg1' 'seg2' 'seg3']\n"
          ],
          "name": "stdout"
        }
      ]
    },
    {
      "cell_type": "markdown",
      "metadata": {
        "id": "9WYQFIw-TMVo"
      },
      "source": [
        "cod_segmento se identifica como variable estadistica cualitativa o categorica que permite clasificar la información sobre el segmento segun el tipo de cliente y consumo que tienen. Hay 3 tipos de segmentos: 'seg1', 'seg2' y 'seg3'. Tambien se puede identificar que es una variable **cualitativa ordinal** porque hay 3 tipos de segmentos que **sigen una jerarquia**: promotor o bueno, pasivo o regular y detractor o malo."
      ]
    },
    {
      "cell_type": "code",
      "metadata": {
        "colab": {
          "base_uri": "https://localhost:8080/"
        },
        "id": "-0nA_WVPULwo",
        "outputId": "129d7978-e8e4-4785-fd5b-125ccabe2c85"
      },
      "source": [
        "# Analisis de la variable cod_tarifa\n",
        "tarifa = pd.unique(df['cod_tarifa'])\n",
        "tarifa.sort()\n",
        "print(tarifa)"
      ],
      "execution_count": null,
      "outputs": [
        {
          "output_type": "stream",
          "text": [
            "[100 101 102 103 104]\n"
          ],
          "name": "stdout"
        }
      ]
    },
    {
      "cell_type": "markdown",
      "metadata": {
        "id": "shnYJ3MfUaw5"
      },
      "source": [
        "cod_tarifa, pese a ser una variable tipo int recogida de forma numerica, se identifica como **variable cualitativa o categorica** que permite clasificar la información sobre la tarifa desde la más economica (100) hasta la más exlusiva (104). Hay 3 tipos de segmentos: 'seg1', 'seg2' y 'seg3'. Tambien se puede identificar que es una **variable categorica ordinal** porque hay 3 tipos de segmentos que **siguen una jerarquia:** promotor o bueno, pasivo o regular y detractor o malo."
      ]
    },
    {
      "cell_type": "code",
      "metadata": {
        "colab": {
          "base_uri": "https://localhost:8080/"
        },
        "id": "HInCvQtEYgeI",
        "outputId": "94b86348-131c-41e0-ef01-ca5ed52c454f"
      },
      "source": [
        "# Analisis de la variable cod_cliente\n",
        "clientes = pd.unique(df['cod_cliente'])\n",
        "clientes.sort()\n",
        "print(clientes)"
      ],
      "execution_count": 16,
      "outputs": [
        {
          "output_type": "stream",
          "text": [
            "[ 143  159  201  227  288  295  359  426  444  461  495  498  532  612\n",
            "  695  790  884 1033 1076 1088 1174 1216 1220 1234 1302 1303 1441 1460\n",
            " 1484 1571 1651 1665 1761 1778 1791 1798 1850 1879 1898 1914 1983 1987\n",
            " 2082 2090 2114 2213 2240 2244 2305 2339 2347 2434 2689 2706 2708 2719\n",
            " 2726 2729 2746 2874 2891 2908 2910 2942 2953 2988 3060 3170 3211 3252\n",
            " 3267 3311 3313 3353 3413 3491 3512 3585 3629 3719 3722 3753 3789 3847\n",
            " 3848 3858 3876 3899 3910 3990 3998 4048 4111 4123 4186 4207 4214 4227\n",
            " 4248 4356 4378 4379 4380 4398 4528 4534 4535 4544 4562 4606 4700 4751\n",
            " 4758 4855 4920 4930 4945 5030 5031 5035 5100 5105 5113 5120 5158 5188\n",
            " 5224 5411 5430 5434 5470 5524 5529 5566 5572 5586 5618 5654 5712 5718\n",
            " 5748 5760 5818 5819 5826 5897 5906 6011 6064 6072 6083 6201 6202 6205\n",
            " 6213 6270 6288 6313 6342 6345 6347 6400 6437 6454 6506 6538 6547 6580\n",
            " 6582 6658 6680 6693 6696 6795 6798 6807 6812 6833 6853 6862 6882 6893\n",
            " 6921 7021 7232 7238 7268 7284 7318 7325 7340 7419 7541 7548 7658 7663\n",
            " 7665 7784 7867 7900 7908 7940 7951 8023 8044 8070 8086 8138 8172 8193\n",
            " 8201 8295 8534 8745 8769 8875 8928 9005 9059 9099 9106 9134 9142 9171\n",
            " 9174 9216 9247 9312 9351 9371 9376 9408 9419 9447 9464 9469 9475 9484\n",
            " 9486 9560 9570 9636 9641 9683 9719 9724 9733 9768 9781 9899 9908 9937\n",
            " 9947 9987]\n"
          ],
          "name": "stdout"
        }
      ]
    },
    {
      "cell_type": "markdown",
      "metadata": {
        "id": "K7Q-eGOQZvFk"
      },
      "source": [
        "cod_cliente es una variable numerica discreta, que tiene algunos saltos de numeracion que la hace no consecutiva en muchos casos. Filtraremos por los codigos de cliente mayores a 4000 para observar mas a detalle."
      ]
    },
    {
      "cell_type": "code",
      "metadata": {
        "colab": {
          "base_uri": "https://localhost:8080/"
        },
        "id": "Db8d0BWI4IIs",
        "outputId": "73c30239-fc58-4319-9e0b-ddb4fbfb0d87"
      },
      "source": [
        "filtro_clientes = [col for col in clientes if col>4000]\n",
        "\n",
        "print(filtro_clientes)"
      ],
      "execution_count": 19,
      "outputs": [
        {
          "output_type": "stream",
          "text": [
            "[4048, 4111, 4123, 4186, 4207, 4214, 4227, 4248, 4356, 4378, 4379, 4380, 4398, 4528, 4534, 4535, 4544, 4562, 4606, 4700, 4751, 4758, 4855, 4920, 4930, 4945, 5030, 5031, 5035, 5100, 5105, 5113, 5120, 5158, 5188, 5224, 5411, 5430, 5434, 5470, 5524, 5529, 5566, 5572, 5586, 5618, 5654, 5712, 5718, 5748, 5760, 5818, 5819, 5826, 5897, 5906, 6011, 6064, 6072, 6083, 6201, 6202, 6205, 6213, 6270, 6288, 6313, 6342, 6345, 6347, 6400, 6437, 6454, 6506, 6538, 6547, 6580, 6582, 6658, 6680, 6693, 6696, 6795, 6798, 6807, 6812, 6833, 6853, 6862, 6882, 6893, 6921, 7021, 7232, 7238, 7268, 7284, 7318, 7325, 7340, 7419, 7541, 7548, 7658, 7663, 7665, 7784, 7867, 7900, 7908, 7940, 7951, 8023, 8044, 8070, 8086, 8138, 8172, 8193, 8201, 8295, 8534, 8745, 8769, 8875, 8928, 9005, 9059, 9099, 9106, 9134, 9142, 9171, 9174, 9216, 9247, 9312, 9351, 9371, 9376, 9408, 9419, 9447, 9464, 9469, 9475, 9484, 9486, 9560, 9570, 9636, 9641, 9683, 9719, 9724, 9733, 9768, 9781, 9899, 9908, 9937, 9947, 9987]\n"
          ],
          "name": "stdout"
        }
      ]
    },
    {
      "cell_type": "markdown",
      "metadata": {
        "id": "pFzQ_gC_ZbRM"
      },
      "source": [
        "Despues de observar **cod_cliente** a detalle y analizar la forma en que se recogio los datos, se define  como **variable cualitativa o categorica** que permite clasificar con un identificador unico a cada cliente. Esto debido a un detalle importante que es que esta variable esta asociada a la tarifa y consumo que realiza el cliente, por lo tanto se podria deducir que es una **variable cualitativa ordinal**."
      ]
    },
    {
      "cell_type": "code",
      "metadata": {
        "colab": {
          "base_uri": "https://localhost:8080/"
        },
        "id": "c25Ras_vcXof",
        "outputId": "e3728758-92e7-4610-dbc0-975fd61aa1f2"
      },
      "source": [
        "# Analisis de la variable cod_terminal\n",
        "terminal = pd.unique(df['cod_terminal'])\n",
        "terminal.sort()\n",
        "print(terminal)"
      ],
      "execution_count": 20,
      "outputs": [
        {
          "output_type": "stream",
          "text": [
            "[ 129  143  181  204  259  266  323  383  400  415  446  448  479  551\n",
            "  626  711  796  930  968  979 1057 1094 1098 1111 1172 1173 1297 1314\n",
            " 1336 1414 1486 1499 1585 1600 1612 1618 1665 1691 1708 1723 1785 1788\n",
            " 1874 1881 1903 1992 2016 2020 2075 2105 2112 2191 2420 2435 2437 2447\n",
            " 2453 2456 2471 2587 2602 2617 2619 2648 2658 2689 2754 2853 2890 2927\n",
            " 2940 2980 2982 3018 3072 3142 3161 3227 3266 3347 3350 3378 3410 3462\n",
            " 3463 3472 3488 3509 3519 3591 3598 3643 3700 3711 3767 3786 3793 3804\n",
            " 3823 3920 3940 3941 3942 3958 4075 4081 4082 4090 4106 4145 4230 4276\n",
            " 4282 4370 4428 4437 4451 4527 4528 4532 4590 4595 4602 4608 4642 4669\n",
            " 4702 4870 4887 4891 4923 4972 4976 5009 5015 5027 5056 5089 5141 5146\n",
            " 5173 5184 5236 5237 5243 5307 5315 5410 5458 5465 5475 5581 5582 5585\n",
            " 5592 5643 5659 5682 5708 5711 5712 5760 5793 5809 5855 5884 5892 5922\n",
            " 5924 5992 6012 6024 6026 6116 6118 6126 6131 6150 6168 6176 6194 6204\n",
            " 6229 6319 6509 6514 6541 6556 6586 6593 6606 6677 6787 6793 6892 6897\n",
            " 6899 7006 7080 7110 7117 7146 7156 7221 7240 7263 7277 7324 7355 7374\n",
            " 7381 7466 7681 7871 7892 7988 8035 8105 8153 8189 8195 8221 8228 8254\n",
            " 8257 8294 8322 8381 8416 8434 8438 8467 8477 8502 8518 8522 8528 8536\n",
            " 8537 8604 8613 8672 8677 8715 8747 8752 8760 8791 8803 8909 8917 8943\n",
            " 8952 8988]\n"
          ],
          "name": "stdout"
        }
      ]
    },
    {
      "cell_type": "markdown",
      "metadata": {
        "id": "6KU3E5RUcnpn"
      },
      "source": [
        "cod_terminal se define como **variable numerica discreta** no consecutiva que permite definir la terminal. Para el analisis de datos se la considera una **variable que no nos permite medir nada**, por lo tanto se considera una **variable cualitativa ordinal** ya que sigue un orden de menor a mayor."
      ]
    },
    {
      "cell_type": "code",
      "metadata": {
        "colab": {
          "base_uri": "https://localhost:8080/"
        },
        "id": "Y6Wifi5ydRDg",
        "outputId": "8a2a5bb6-2bd2-41c9-9528-85fe91643577"
      },
      "source": [
        "# Analisis de la variable consumo\n",
        "consumo_cliente = pd.unique(df['consumo'])\n",
        "consumo_cliente.sort()\n",
        "print(consumo_cliente)"
      ],
      "execution_count": 21,
      "outputs": [
        {
          "output_type": "stream",
          "text": [
            "['1' '10' '10,25' '10,36' '10,5' '10,8' '11' '11,63' '12' '13' '13,25'\n",
            " '13,33' '13,5' '13,61' '14' '14,22' '14,25' '14,42' '15' '15,2' '15,26'\n",
            " '16' '17' '17,5' '18' '18,32' '18,36' '19' '20' '21' '21,33' '21,44'\n",
            " '21,5' '22' '22,25' '23' '23,7' '24' '24,33' '24,6' '24,8' '25' '25,32'\n",
            " '25,33' '25,55' '25,8' '26' '26,45' '27' '27,35' '28' '28,55' '28,9'\n",
            " '29,3' '30' '30,11' '30,54' '31' '31,3' '31,44' '32' '32,3' '32,33'\n",
            " '32,7' '33' '33,25' '33,31' '34' '35' '35,3' '35,33' '35,41' '35,58' '36'\n",
            " '37' '38' '38,2' '38,35' '39' '39,45' '4,5' '40' '40,25' '41' '41,5' '42'\n",
            " '42,22' '43' '43,26' '44' '44,15' '44,6' '45' '45,33' '45,36' '46'\n",
            " '46,32' '47' '47,55' '47,58' '48' '48,41' '48,5' '49' '49,5' '49,52' '50'\n",
            " '50,25' '52,5' '55,2' '62,58' '63,28' '65,3' '66,32' '66,5' '66,54' '7'\n",
            " '70,14' '70,25' '72,3' '72,4' '75,33' '80,6' '82,3' '9' '9,6' '90,5'\n",
            " '91,2' '92,1' '95,12' '98,25' '98,5']\n"
          ],
          "name": "stdout"
        }
      ]
    },
    {
      "cell_type": "markdown",
      "metadata": {
        "id": "Hma9nmfUdhOx"
      },
      "source": [
        "Se observa que la variable consumo es una **variable cuantitativa continua** que nos permite **medir el consumo** telefonico de cada cliente."
      ]
    }
  ]
}